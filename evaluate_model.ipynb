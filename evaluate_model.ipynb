{
  "nbformat": 4,
  "nbformat_minor": 0,
  "metadata": {
    "colab": {
      "provenance": [],
      "gpuType": "T4"
    },
    "kernelspec": {
      "name": "python3",
      "display_name": "Python 3"
    },
    "language_info": {
      "name": "python"
    },
    "accelerator": "GPU"
  },
  "cells": [
    {
      "cell_type": "code",
      "source": [
        "!pip install git+https://github.com/openai/CLIP.git@a1d071733d7111c9c014f024669f959182114e33 --upgrade --no-deps\n",
        "!pip install ftfy regex tqdm"
      ],
      "metadata": {
        "colab": {
          "base_uri": "https://localhost:8080/"
        },
        "id": "rD-SEwHnLIBx",
        "outputId": "820621d0-9c71-4c4c-bf53-4a8f70be33e3"
      },
      "execution_count": 5,
      "outputs": [
        {
          "output_type": "stream",
          "name": "stdout",
          "text": [
            "Collecting git+https://github.com/openai/CLIP.git@a1d071733d7111c9c014f024669f959182114e33\n",
            "  Cloning https://github.com/openai/CLIP.git (to revision a1d071733d7111c9c014f024669f959182114e33) to /tmp/pip-req-build-28xtepbm\n",
            "  Running command git clone --filter=blob:none --quiet https://github.com/openai/CLIP.git /tmp/pip-req-build-28xtepbm\n",
            "  Running command git rev-parse -q --verify 'sha^a1d071733d7111c9c014f024669f959182114e33'\n",
            "  Running command git fetch -q https://github.com/openai/CLIP.git a1d071733d7111c9c014f024669f959182114e33\n",
            "  Running command git checkout -q a1d071733d7111c9c014f024669f959182114e33\n",
            "  Resolved https://github.com/openai/CLIP.git to commit a1d071733d7111c9c014f024669f959182114e33\n",
            "  Preparing metadata (setup.py) ... \u001b[?25l\u001b[?25hdone\n",
            "Collecting ftfy\n",
            "  Downloading ftfy-6.3.1-py3-none-any.whl.metadata (7.3 kB)\n",
            "Requirement already satisfied: regex in /usr/local/lib/python3.11/dist-packages (2024.11.6)\n",
            "Requirement already satisfied: tqdm in /usr/local/lib/python3.11/dist-packages (4.67.1)\n",
            "Requirement already satisfied: wcwidth in /usr/local/lib/python3.11/dist-packages (from ftfy) (0.2.13)\n",
            "Downloading ftfy-6.3.1-py3-none-any.whl (44 kB)\n",
            "\u001b[2K   \u001b[90m━━━━━━━━━━━━━━━━━━━━━━━━━━━━━━━━━━━━━━━━\u001b[0m \u001b[32m44.8/44.8 kB\u001b[0m \u001b[31m4.1 MB/s\u001b[0m eta \u001b[36m0:00:00\u001b[0m\n",
            "\u001b[?25hInstalling collected packages: ftfy\n",
            "Successfully installed ftfy-6.3.1\n"
          ]
        }
      ]
    },
    {
      "cell_type": "code",
      "execution_count": 6,
      "metadata": {
        "id": "3BFXz5iKKCOx"
      },
      "outputs": [],
      "source": [
        "import clip\n",
        "import torch\n",
        "import numpy as np\n",
        "from torchvision import datasets, transforms\n",
        "from torch.utils.data import DataLoader"
      ]
    },
    {
      "cell_type": "code",
      "source": [
        "device = \"cuda\" if torch.cuda.is_available() else \"cpu\"\n",
        "model, preprocess = clip.load(\"ViT-B/32\", device=device)"
      ],
      "metadata": {
        "colab": {
          "base_uri": "https://localhost:8080/"
        },
        "id": "K1FMWKadKTqN",
        "outputId": "50036408-db75-42bd-9565-d446cad971d0"
      },
      "execution_count": 7,
      "outputs": [
        {
          "output_type": "stream",
          "name": "stderr",
          "text": [
            "100%|███████████████████████████████████████| 338M/338M [00:08<00:00, 41.4MiB/s]\n"
          ]
        }
      ]
    },
    {
      "cell_type": "code",
      "source": [
        "transform = preprocess\n",
        "\n",
        "test_dataset = datasets.Food101(\n",
        "    root=\"./data\", split=\"test\", download=True, transform=transform\n",
        ")\n",
        "test_loader = DataLoader(test_dataset, batch_size=64, shuffle=False)\n",
        "\n",
        "class_names = test_dataset.classes  # the name of 101 dishes"
      ],
      "metadata": {
        "colab": {
          "base_uri": "https://localhost:8080/"
        },
        "id": "I1lTdUZ4KURs",
        "outputId": "69f9c1f8-1d91-4d57-b90e-9e3de410fce0"
      },
      "execution_count": 8,
      "outputs": [
        {
          "output_type": "stream",
          "name": "stderr",
          "text": [
            "100%|██████████| 5.00G/5.00G [00:37<00:00, 135MB/s]\n"
          ]
        }
      ]
    },
    {
      "cell_type": "code",
      "source": [
        "# encode text queries\n",
        "with torch.no_grad():\n",
        "    text_tokens = clip.tokenize(class_names).to(device)\n",
        "    text_features = model.encode_text(text_tokens)\n",
        "    text_features /= text_features.norm(dim=-1, keepdim=True)"
      ],
      "metadata": {
        "id": "MshacfzsKejr"
      },
      "execution_count": 9,
      "outputs": []
    },
    {
      "cell_type": "code",
      "source": [
        "# encode image features\n",
        "all_image_features = []\n",
        "all_labels = []\n",
        "\n",
        "with torch.no_grad():\n",
        "    for images, labels in test_loader:\n",
        "        images = images.to(device)\n",
        "        features = model.encode_image(images)\n",
        "        features /= features.norm(dim=-1, keepdim=True)\n",
        "        all_image_features.append(features.cpu())\n",
        "        all_labels.append(labels)\n",
        "\n",
        "all_image_features = torch.cat(all_image_features, dim=0)  # [N, d]\n",
        "all_labels = torch.cat(all_labels, dim=0)"
      ],
      "metadata": {
        "id": "o5mksaR0Kh0l"
      },
      "execution_count": 10,
      "outputs": []
    },
    {
      "cell_type": "markdown",
      "source": [
        "similarity[i, j] = $∑_{k=1}^d$ text_features[i, k] . all_image_features[j, k]"
      ],
      "metadata": {
        "id": "3DO5m3sXMI0X"
      }
    },
    {
      "cell_type": "code",
      "source": [
        "# compute similarity\n",
        "similarity = text_features.cpu() @ all_image_features.T"
      ],
      "metadata": {
        "id": "YtFr8MdYKlyC"
      },
      "execution_count": 19,
      "outputs": []
    },
    {
      "cell_type": "code",
      "source": [
        "# calculate Recall@K\n",
        "def recall_at_k(similarity, labels, k=1):\n",
        "    num_queries = similarity.shape[0]\n",
        "    correct = 0\n",
        "    for i in range(num_queries):\n",
        "        # Query text = class i\n",
        "        sims = similarity[i]  # similarity scores with all images\n",
        "        topk_indices = sims.topk(k).indices.numpy()\n",
        "        # Check if any retrieved image has label = i\n",
        "        if any(labels[idx].item() == i for idx in topk_indices):\n",
        "            correct += 1\n",
        "    return correct / num_queries"
      ],
      "metadata": {
        "id": "pocpI6JyKrIl"
      },
      "execution_count": 12,
      "outputs": []
    },
    {
      "cell_type": "code",
      "source": [
        "for k in [1, 5, 10]:\n",
        "    r_at_k = recall_at_k(similarity, all_labels, k=k)\n",
        "    print(f\"Recall@{k}: {r_at_k:.4f}\")"
      ],
      "metadata": {
        "colab": {
          "base_uri": "https://localhost:8080/"
        },
        "id": "zffcRtTZKrC5",
        "outputId": "2dac70b4-1a11-4555-e7dd-d492a8772005"
      },
      "execution_count": 13,
      "outputs": [
        {
          "output_type": "stream",
          "name": "stdout",
          "text": [
            "Recall@1: 0.9703\n",
            "Recall@5: 1.0000\n",
            "Recall@10: 1.0000\n"
          ]
        }
      ]
    },
    {
      "cell_type": "markdown",
      "source": [
        "### **Compute nDCG (Normalized Discounted Cumulative Gain)**\n",
        "\n",
        "\n",
        "DCG@K = $\\sum_{i=1}^{K} \\frac{rel_i}{\\log_2(i+1)}$\n",
        "\n",
        "Trong đó:\n",
        "- $rel_i$ = độ liên quan (relevance)\n",
        "- $i$ = vị trí của kết quả trong top-K  \n",
        "- IDCG@K = DCG@K tốt nhất có thể đạt được (khi tất cả relevant items nằm trên đầu danh sách).\n",
        "- nDCG@K:\n",
        "\n",
        "    $nDCG@K$ = $\\frac{DCG@K}{IDCG@K}$"
      ],
      "metadata": {
        "id": "epKaYr_pNSBC"
      }
    },
    {
      "cell_type": "code",
      "source": [
        "def dcg_score(relevances, k):\n",
        "    \"\"\"Compute DCG at rank k\"\"\"\n",
        "    relevances = np.asarray(relevances)[:k]\n",
        "    return np.sum((2**relevances - 1) / np.log2(np.arange(2, relevances.size + 2)))\n",
        "\n",
        "\n",
        "def ndcg_score(y_true, y_scores, k=10):\n",
        "    \"\"\"\n",
        "    Compute nDCG@k for a single query\n",
        "    y_true: binary relevance vector (1 if relevant, else 0)\n",
        "    y_scores: predicted scores for each item\n",
        "    \"\"\"\n",
        "    # sort by predicted scores\n",
        "    order = np.argsort(y_scores)[::-1]\n",
        "    y_true_sorted = np.take(y_true, order[:k])\n",
        "\n",
        "    dcg = dcg_score(y_true_sorted, k)\n",
        "    idcg = dcg_score(sorted(y_true, reverse=True), k)\n",
        "    return dcg / idcg if idcg > 0 else 0.0"
      ],
      "metadata": {
        "id": "3Gz62xFfNnKn"
      },
      "execution_count": 34,
      "outputs": []
    },
    {
      "cell_type": "code",
      "source": [
        "K = 1\n",
        "n_classes = len(class_names)\n",
        "all_ndcgs = []\n",
        "# similarity = similarity.numpy()\n",
        "\n",
        "for K in [1, 5, 10]:\n",
        "    for class_idx in range(n_classes):\n",
        "        scores = similarity[class_idx]  # similarity scores of this class to all images\n",
        "        labels = (all_labels.numpy() == class_idx).astype(int)  # relevance vector\n",
        "\n",
        "        ndcg = ndcg_score(labels, scores, k=K)\n",
        "        all_ndcgs.append(ndcg)\n",
        "\n",
        "    mean_ndcg = np.mean(all_ndcgs)\n",
        "    print(f\"Mean nDCG@{K}: {mean_ndcg:.4f}\")"
      ],
      "metadata": {
        "colab": {
          "base_uri": "https://localhost:8080/"
        },
        "id": "KRkndH1AOW0Z",
        "outputId": "04153f4e-85aa-4a95-fe73-dda3dc99ab98"
      },
      "execution_count": 42,
      "outputs": [
        {
          "output_type": "stream",
          "name": "stdout",
          "text": [
            "Mean nDCG@1: 0.9703\n",
            "Mean nDCG@5: 0.9685\n",
            "Mean nDCG@10: 0.9668\n"
          ]
        }
      ]
    }
  ]
}